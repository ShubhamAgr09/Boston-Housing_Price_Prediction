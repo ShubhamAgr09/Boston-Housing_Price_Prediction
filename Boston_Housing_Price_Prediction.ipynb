{
  "cells": [
    {
      "cell_type": "code",
      "execution_count": 40,
      "metadata": {
        "id": "LxdxHaXks44u"
      },
      "outputs": [],
      "source": [
        "import pandas as pd\n",
        "import numpy as np\n",
        "import matplotlib.pyplot as plt\n",
        "import seaborn as sns\n",
        "import warnings\n",
        "warnings.filterwarnings('ignore')"
      ]
    },
    {
      "cell_type": "markdown",
      "metadata": {
        "id": "yAdYbOWLudfK"
      },
      "source": [
        "#DATA"
      ]
    },
    {
      "cell_type": "code",
      "execution_count": 98,
      "metadata": {
        "colab": {
          "base_uri": "https://localhost:8080/"
        },
        "id": "ea0-21oguS9d",
        "outputId": "2a7b090c-2b2a-41b4-98e9-30811e53002a"
      },
      "outputs": [
        {
          "output_type": "stream",
          "name": "stdout",
          "text": [
            "<class 'pandas.core.frame.DataFrame'>\n",
            "RangeIndex: 400 entries, 0 to 399\n",
            "Data columns (total 15 columns):\n",
            " #   Column   Non-Null Count  Dtype  \n",
            "---  ------   --------------  -----  \n",
            " 0   ID       400 non-null    int64  \n",
            " 1   CRIM     400 non-null    float64\n",
            " 2   ZN       400 non-null    float64\n",
            " 3   INDUS    400 non-null    float64\n",
            " 4   CHAS     400 non-null    int64  \n",
            " 5   NOX      400 non-null    float64\n",
            " 6   RM       400 non-null    float64\n",
            " 7   AGE      400 non-null    float64\n",
            " 8   DIS      400 non-null    float64\n",
            " 9   RAD      400 non-null    int64  \n",
            " 10  TAX      400 non-null    float64\n",
            " 11  PTRATIO  400 non-null    float64\n",
            " 12  B        400 non-null    float64\n",
            " 13  LSTAT    400 non-null    float64\n",
            " 14  MEDV     400 non-null    float64\n",
            "dtypes: float64(12), int64(3)\n",
            "memory usage: 47.0 KB\n"
          ]
        }
      ],
      "source": [
        "df = pd.read_csv('https://raw.githubusercontent.com/ShubhamAgr09/Training-Datasets/main/BostonHousing_train.csv')\n",
        "df.info()"
      ]
    },
    {
      "cell_type": "markdown",
      "metadata": {
        "id": "GW-bVPKM3DCZ"
      },
      "source": [
        "#EDA"
      ]
    },
    {
      "cell_type": "markdown",
      "metadata": {
        "id": "BuHJ1-ks3QU4"
      },
      "source": [
        "Detecting Outliers with the help of Boxplot"
      ]
    },
    {
      "cell_type": "code",
      "execution_count": 42,
      "metadata": {
        "colab": {
          "base_uri": "https://localhost:8080/",
          "height": 297
        },
        "id": "Zi-41CssiaQB",
        "outputId": "39a8c4b0-034a-47d5-b487-0c4b63018925"
      },
      "outputs": [
        {
          "output_type": "execute_result",
          "data": {
            "text/plain": [
              "<matplotlib.axes._subplots.AxesSubplot at 0x7ffaf428db50>"
            ]
          },
          "metadata": {},
          "execution_count": 42
        },
        {
          "output_type": "display_data",
          "data": {
            "text/plain": [
              "<Figure size 432x288 with 1 Axes>"
            ],
            "image/png": "[encoded data removed]"
          },
          "metadata": {
            "needs_background": "light"
          }
        }
      ],
      "source": [
        "sns.boxplot(x=df.CRIM)"
      ]
    },
    {
      "cell_type": "code",
      "execution_count": 43,
      "metadata": {
        "colab": {
          "base_uri": "https://localhost:8080/",
          "height": 297
        },
        "id": "JxN55xqmiaUr",
        "outputId": "3b1c0e69-67d1-4e55-908a-350aefd05fcf"
      },
      "outputs": [
        {
          "output_type": "execute_result",
          "data": {
            "text/plain": [
              "<matplotlib.axes._subplots.AxesSubplot at 0x7ffaf4213f50>"
            ]
          },
          "metadata": {},
          "execution_count": 43
        },
        {
          "output_type": "display_data",
          "data": {
            "text/plain": [
              "<Figure size 432x288 with 1 Axes>"
            ],
            "image/png": "[encoded data removed]"
          },
          "metadata": {
            "needs_background": "light"
          }
        }
      ],
      "source": [
        "sns.boxplot(x=df.ZN)"
      ]
    },
    {
      "cell_type": "code",
      "execution_count": 44,
      "metadata": {
        "colab": {
          "base_uri": "https://localhost:8080/",
          "height": 297
        },
        "id": "iG_lM3NtjulQ",
        "outputId": "81d1f05b-9a1a-476c-e0b7-1bd283165afe"
      },
      "outputs": [
        {
          "output_type": "execute_result",
          "data": {
            "text/plain": [
              "<matplotlib.axes._subplots.AxesSubplot at 0x7ffaf4185550>"
            ]
          },
          "metadata": {},
          "execution_count": 44
        },
        {
          "output_type": "display_data",
          "data": {
            "text/plain": [
              "<Figure size 432x288 with 1 Axes>"
            ],
            "image/png": "[encoded data removed]"
          },
          "metadata": {
            "needs_background": "light"
          }
        }
      ],
      "source": [
        "sns.boxplot(x=df.RM)"
      ]
    },
    {
      "cell_type": "code",
      "execution_count": 45,
      "metadata": {
        "colab": {
          "base_uri": "https://localhost:8080/",
          "height": 297
        },
        "id": "H-fe1lgsklFn",
        "outputId": "8210e929-9095-4db8-803f-67ee8e491cdf"
      },
      "outputs": [
        {
          "output_type": "execute_result",
          "data": {
            "text/plain": [
              "<matplotlib.axes._subplots.AxesSubplot at 0x7ffaf417dad0>"
            ]
          },
          "metadata": {},
          "execution_count": 45
        },
        {
          "output_type": "display_data",
          "data": {
            "text/plain": [
              "<Figure size 432x288 with 1 Axes>"
            ],
            "image/png": "[encoded data removed]"
          },
          "metadata": {
            "needs_background": "light"
          }
        }
      ],
      "source": [
        "sns.boxplot(x=df.B)"
      ]
    },
    {
      "cell_type": "code",
      "execution_count": 46,
      "metadata": {
        "colab": {
          "base_uri": "https://localhost:8080/",
          "height": 297
        },
        "id": "52xj8cW-klNI",
        "outputId": "14384715-7e93-44d2-a45d-7b34e1ec2196"
      },
      "outputs": [
        {
          "output_type": "execute_result",
          "data": {
            "text/plain": [
              "<matplotlib.axes._subplots.AxesSubplot at 0x7ffaf40fcfd0>"
            ]
          },
          "metadata": {},
          "execution_count": 46
        },
        {
          "output_type": "display_data",
          "data": {
            "text/plain": [
              "<Figure size 432x288 with 1 Axes>"
            ],
            "image/png": "[encoded data removed]"
          },
          "metadata": {
            "needs_background": "light"
          }
        }
      ],
      "source": [
        "sns.boxplot(x=df.LSTAT)"
      ]
    },
    {
      "cell_type": "code",
      "execution_count": 47,
      "metadata": {
        "colab": {
          "base_uri": "https://localhost:8080/",
          "height": 297
        },
        "id": "HbZZ8QD8klTu",
        "outputId": "2b36be50-675d-4822-d97a-5ece2c8fe56f"
      },
      "outputs": [
        {
          "output_type": "execute_result",
          "data": {
            "text/plain": [
              "<matplotlib.axes._subplots.AxesSubplot at 0x7ffaf4056b90>"
            ]
          },
          "metadata": {},
          "execution_count": 47
        },
        {
          "output_type": "display_data",
          "data": {
            "text/plain": [
              "<Figure size 432x288 with 1 Axes>"
            ],
            "image/png": "[encoded data removed]"
          },
          "metadata": {
            "needs_background": "light"
          }
        }
      ],
      "source": [
        "sns.boxplot(x=df.MEDV)"
      ]
    },
    {
      "cell_type": "code",
      "execution_count": 48,
      "metadata": {
        "colab": {
          "base_uri": "https://localhost:8080/",
          "height": 297
        },
        "id": "rdXCT7kBiaa9",
        "outputId": "85e91048-c1db-449b-c250-9c062318e993"
      },
      "outputs": [
        {
          "output_type": "execute_result",
          "data": {
            "text/plain": [
              "<matplotlib.axes._subplots.AxesSubplot at 0x7ffaf3fd9490>"
            ]
          },
          "metadata": {},
          "execution_count": 48
        },
        {
          "output_type": "display_data",
          "data": {
            "text/plain": [
              "<Figure size 432x288 with 1 Axes>"
            ],
            "image/png": "[encoded data removed]"
          },
          "metadata": {
            "needs_background": "light"
          }
        }
      ],
      "source": [
        "sns.boxplot(x=df.INDUS)"
      ]
    },
    {
      "cell_type": "code",
      "execution_count": 49,
      "metadata": {
        "colab": {
          "base_uri": "https://localhost:8080/"
        },
        "id": "5RDiLMqRiahM",
        "outputId": "b608d5d2-c836-4304-d0e4-7c99f2e18e0d"
      },
      "outputs": [
        {
          "output_type": "execute_result",
          "data": {
            "text/plain": [
              "0    371\n",
              "1     29\n",
              "Name: CHAS, dtype: int64"
            ]
          },
          "metadata": {},
          "execution_count": 49
        }
      ],
      "source": [
        "# sns.boxplot(x=df.CHAS)\n",
        "df.CHAS.value_counts()"
      ]
    },
    {
      "cell_type": "code",
      "execution_count": 50,
      "metadata": {
        "colab": {
          "base_uri": "https://localhost:8080/",
          "height": 297
        },
        "id": "adPWe-7mianq",
        "outputId": "93c03e4e-5ae4-4344-e4c6-acfe025ad3c7"
      },
      "outputs": [
        {
          "output_type": "execute_result",
          "data": {
            "text/plain": [
              "<matplotlib.axes._subplots.AxesSubplot at 0x7ffaf3fbd990>"
            ]
          },
          "metadata": {},
          "execution_count": 50
        },
        {
          "output_type": "display_data",
          "data": {
            "text/plain": [
              "<Figure size 432x288 with 1 Axes>"
            ],
            "image/png": "[encoded data removed]"
          },
          "metadata": {
            "needs_background": "light"
          }
        }
      ],
      "source": [
        "sns.boxplot(x=df.NOX)"
      ]
    },
    {
      "cell_type": "code",
      "execution_count": 51,
      "metadata": {
        "colab": {
          "base_uri": "https://localhost:8080/",
          "height": 297
        },
        "id": "2jD6nqfYjusc",
        "outputId": "305f538f-96fe-4ae1-aa86-716caed10629"
      },
      "outputs": [
        {
          "output_type": "execute_result",
          "data": {
            "text/plain": [
              "<matplotlib.axes._subplots.AxesSubplot at 0x7ffaf3fbc350>"
            ]
          },
          "metadata": {},
          "execution_count": 51
        },
        {
          "output_type": "display_data",
          "data": {
            "text/plain": [
              "<Figure size 432x288 with 1 Axes>"
            ],
            "image/png": "[encoded data removed]"
          },
          "metadata": {
            "needs_background": "light"
          }
        }
      ],
      "source": [
        "sns.boxplot(x=df.AGE)"
      ]
    },
    {
      "cell_type": "code",
      "execution_count": 52,
      "metadata": {
        "colab": {
          "base_uri": "https://localhost:8080/",
          "height": 297
        },
        "id": "LhtLOag1juzZ",
        "outputId": "02bf3c7d-64d9-417b-bb38-28819fafcc4a"
      },
      "outputs": [
        {
          "output_type": "execute_result",
          "data": {
            "text/plain": [
              "<matplotlib.axes._subplots.AxesSubplot at 0x7ffaf3e99850>"
            ]
          },
          "metadata": {},
          "execution_count": 52
        },
        {
          "output_type": "display_data",
          "data": {
            "text/plain": [
              "<Figure size 432x288 with 1 Axes>"
            ],
            "image/png": "[encoded data removed]"
          },
          "metadata": {
            "needs_background": "light"
          }
        }
      ],
      "source": [
        "sns.boxplot(x=df.DIS)"
      ]
    },
    {
      "cell_type": "code",
      "execution_count": 53,
      "metadata": {
        "colab": {
          "base_uri": "https://localhost:8080/",
          "height": 297
        },
        "id": "J3BEBlTWju6p",
        "outputId": "54686a7d-4ab0-41fb-d460-68086e8ffba3"
      },
      "outputs": [
        {
          "output_type": "execute_result",
          "data": {
            "text/plain": [
              "<matplotlib.axes._subplots.AxesSubplot at 0x7ffaf3e0f450>"
            ]
          },
          "metadata": {},
          "execution_count": 53
        },
        {
          "output_type": "display_data",
          "data": {
            "text/plain": [
              "<Figure size 432x288 with 1 Axes>"
            ],
            "image/png": "[encoded data removed]"
          },
          "metadata": {
            "needs_background": "light"
          }
        }
      ],
      "source": [
        "sns.boxplot(x=df.RAD)"
      ]
    },
    {
      "cell_type": "code",
      "execution_count": 54,
      "metadata": {
        "colab": {
          "base_uri": "https://localhost:8080/",
          "height": 297
        },
        "id": "zwhoSMj7jvDu",
        "outputId": "e8725b64-fe6a-43a9-9877-d8e40816b8c3"
      },
      "outputs": [
        {
          "output_type": "execute_result",
          "data": {
            "text/plain": [
              "<matplotlib.axes._subplots.AxesSubplot at 0x7ffaf3dee950>"
            ]
          },
          "metadata": {},
          "execution_count": 54
        },
        {
          "output_type": "display_data",
          "data": {
            "text/plain": [
              "<Figure size 432x288 with 1 Axes>"
            ],
            "image/png": "[encoded data removed]"
          },
          "metadata": {
            "needs_background": "light"
          }
        }
      ],
      "source": [
        "sns.boxplot(x=df.TAX)"
      ]
    },
    {
      "cell_type": "code",
      "execution_count": 55,
      "metadata": {
        "colab": {
          "base_uri": "https://localhost:8080/",
          "height": 297
        },
        "id": "KXylEavCkIpX",
        "outputId": "1722e930-9a8e-4574-e61c-be706d15503e"
      },
      "outputs": [
        {
          "output_type": "execute_result",
          "data": {
            "text/plain": [
              "<matplotlib.axes._subplots.AxesSubplot at 0x7ffaf3d675d0>"
            ]
          },
          "metadata": {},
          "execution_count": 55
        },
        {
          "output_type": "display_data",
          "data": {
            "text/plain": [
              "<Figure size 432x288 with 1 Axes>"
            ],
            "image/png": "[encoded data removed]"
          },
          "metadata": {
            "needs_background": "light"
          }
        }
      ],
      "source": [
        "sns.boxplot(x=df.PTRATIO)"
      ]
    },
    {
      "cell_type": "markdown",
      "metadata": {
        "id": "lgF_jRvlILPt"
      },
      "source": [
        "Removing Outliers by Capping"
      ]
    },
    {
      "cell_type": "code",
      "execution_count": 56,
      "metadata": {
        "id": "Hfa6PLZ1H2mQ"
      },
      "outputs": [],
      "source": [
        "# sns.pairplot(df)\n",
        "# plt.show()"
      ]
    },
    {
      "cell_type": "markdown",
      "metadata": {
        "id": "TmwerOa_5Hiz"
      },
      "source": [
        "#Splitting Data"
      ]
    },
    {
      "cell_type": "code",
      "source": [
        "df.columns"
      ],
      "metadata": {
        "colab": {
          "base_uri": "https://localhost:8080/"
        },
        "id": "alCqweewBKX4",
        "outputId": "407ed9f9-c9da-434c-9d4f-a0a9d4425d3f"
      },
      "execution_count": 57,
      "outputs": [
        {
          "output_type": "execute_result",
          "data": {
            "text/plain": [
              "Index(['ID', 'CRIM', 'ZN', 'INDUS', 'CHAS', 'NOX', 'RM', 'AGE', 'DIS', 'RAD',\n",
              "       'TAX', 'PTRATIO', 'B', 'LSTAT', 'MEDV'],\n",
              "      dtype='object')"
            ]
          },
          "metadata": {},
          "execution_count": 57
        }
      ]
    },
    {
      "cell_type": "code",
      "execution_count": 58,
      "metadata": {
        "id": "xiYrfxm4wQBD"
      },
      "outputs": [],
      "source": [
        "X = df[['CRIM', 'ZN', 'INDUS', 'CHAS', 'NOX', 'RM', 'AGE', 'DIS', 'RAD',\n",
        "       'TAX', 'PTRATIO', 'B', 'LSTAT']].values\n",
        "y = df.iloc[:,-1].values "
      ]
    },
    {
      "cell_type": "markdown",
      "metadata": {
        "id": "QUyL4ZoSRDfk"
      },
      "source": [
        "**SPLITTING**"
      ]
    },
    {
      "cell_type": "code",
      "execution_count": 59,
      "metadata": {
        "id": "y3XZB20NADAy"
      },
      "outputs": [],
      "source": [
        "from sklearn.model_selection import train_test_split\n",
        "# X_train, X_test, y_train, y_test = train_test_split(X, y, test_size=0.2, random_state=48)\n",
        "X_train, X_test, y_train, y_test = train_test_split(X, y, test_size=0.2, random_state=2)\n",
        "#25"
      ]
    },
    {
      "cell_type": "markdown",
      "source": [
        "**Feature Scaling**"
      ],
      "metadata": {
        "id": "Os3-9V7_Dymg"
      }
    },
    {
      "cell_type": "code",
      "execution_count": 60,
      "metadata": {
        "id": "xLx4Yj21Qyut"
      },
      "outputs": [],
      "source": [
        "from sklearn.preprocessing import StandardScaler\n",
        "scaler = StandardScaler()\n",
        "X_train = scaler.fit_transform(X_train)\n",
        "X_test = scaler.transform(X_test)"
      ]
    },
    {
      "cell_type": "markdown",
      "metadata": {
        "id": "OdZhIyzG6nCl"
      },
      "source": [
        "#Model Building"
      ]
    },
    {
      "cell_type": "markdown",
      "source": [
        "#Neural Network"
      ],
      "metadata": {
        "id": "yaN7ok_jc_EN"
      }
    },
    {
      "cell_type": "code",
      "source": [
        "from tensorflow import keras\n",
        "from keras import Sequential, layers, models\n",
        "from keras.layers import Flatten, Dense\n",
        "ann = Sequential()\n",
        "# model.add(Flatten(input_shape=(28,28))\n",
        "ann.add(Dense(128, input_dim=X_train.shape[1], activation='relu'))\n",
        "ann.add(Dense(64, activation='relu'))\n",
        "ann.add(Dense(1, activation='linear'))\n",
        "\n",
        "ann.compile(optimizer='sgd', loss='mse', metrics='accuracy')\n",
        "ann.summary()\n",
        "history = ann.fit(X_train,y_train,validation_split=0.1,epochs=60)"
      ],
      "metadata": {
        "id": "mW5u2xCGdCp7",
        "colab": {
          "base_uri": "https://localhost:8080/"
        },
        "outputId": "df913fce-165e-4f6f-9a01-5f94a4aa86fd"
      },
      "execution_count": 61,
      "outputs": [
        {
          "output_type": "stream",
          "name": "stdout",
          "text": [
            "Model: \"sequential_1\"\n",
            "_________________________________________________________________\n",
            " Layer (type)                Output Shape              Param #   \n",
            "=================================================================\n",
            " dense_3 (Dense)             (None, 128)               1792      \n",
            "                                                                 \n",
            " dense_4 (Dense)             (None, 64)                8256      \n",
            "                                                                 \n",
            " dense_5 (Dense)             (None, 1)                 65        \n",
            "                                                                 \n",
            "=================================================================\n",
            "Total params: 10,113\n",
            "Trainable params: 10,113\n",
            "Non-trainable params: 0\n",
            "_________________________________________________________________\n",
            "Epoch 1/60\n",
            "9/9 [==============================] - 0s 22ms/step - loss: 368.0343 - accuracy: 0.0000e+00 - val_loss: 427.8088 - val_accuracy: 0.0000e+00\n",
            "Epoch 2/60\n",
            "9/9 [==============================] - 0s 4ms/step - loss: 256.7396 - accuracy: 0.0000e+00 - val_loss: 80.3645 - val_accuracy: 0.0000e+00\n",
            "Epoch 3/60\n",
            "9/9 [==============================] - 0s 5ms/step - loss: 56.5493 - accuracy: 0.0000e+00 - val_loss: 106.7887 - val_accuracy: 0.0000e+00\n",
            "Epoch 4/60\n",
            "9/9 [==============================] - 0s 5ms/step - loss: 79.1446 - accuracy: 0.0000e+00 - val_loss: 91.7051 - val_accuracy: 0.0000e+00\n",
            "Epoch 5/60\n",
            "9/9 [==============================] - 0s 5ms/step - loss: 37.0494 - accuracy: 0.0000e+00 - val_loss: 48.7204 - val_accuracy: 0.0000e+00\n",
            "Epoch 6/60\n",
            "9/9 [==============================] - 0s 6ms/step - loss: 56.4154 - accuracy: 0.0000e+00 - val_loss: 107.4386 - val_accuracy: 0.0000e+00\n",
            "Epoch 7/60\n",
            "9/9 [==============================] - 0s 5ms/step - loss: 48.1604 - accuracy: 0.0000e+00 - val_loss: 25.3141 - val_accuracy: 0.0000e+00\n",
            "Epoch 8/60\n",
            "9/9 [==============================] - 0s 8ms/step - loss: 59.4355 - accuracy: 0.0000e+00 - val_loss: 55.1608 - val_accuracy: 0.0000e+00\n",
            "Epoch 9/60\n",
            "9/9 [==============================] - 0s 6ms/step - loss: 34.2887 - accuracy: 0.0000e+00 - val_loss: 40.9684 - val_accuracy: 0.0000e+00\n",
            "Epoch 10/60\n",
            "9/9 [==============================] - 0s 5ms/step - loss: 23.1883 - accuracy: 0.0000e+00 - val_loss: 42.6707 - val_accuracy: 0.0000e+00\n",
            "Epoch 11/60\n",
            "9/9 [==============================] - 0s 5ms/step - loss: 24.2993 - accuracy: 0.0000e+00 - val_loss: 31.7881 - val_accuracy: 0.0000e+00\n",
            "Epoch 12/60\n",
            "9/9 [==============================] - 0s 5ms/step - loss: 13.3649 - accuracy: 0.0000e+00 - val_loss: 29.1293 - val_accuracy: 0.0000e+00\n",
            "Epoch 13/60\n",
            "9/9 [==============================] - 0s 5ms/step - loss: 18.2289 - accuracy: 0.0000e+00 - val_loss: 35.7047 - val_accuracy: 0.0000e+00\n",
            "Epoch 14/60\n",
            "9/9 [==============================] - 0s 7ms/step - loss: 12.9983 - accuracy: 0.0000e+00 - val_loss: 45.7850 - val_accuracy: 0.0000e+00\n",
            "Epoch 15/60\n",
            "9/9 [==============================] - 0s 5ms/step - loss: 29.8214 - accuracy: 0.0000e+00 - val_loss: 38.6956 - val_accuracy: 0.0000e+00\n",
            "Epoch 16/60\n",
            "9/9 [==============================] - 0s 6ms/step - loss: 22.3257 - accuracy: 0.0000e+00 - val_loss: 33.6872 - val_accuracy: 0.0000e+00\n",
            "Epoch 17/60\n",
            "9/9 [==============================] - 0s 6ms/step - loss: 11.2619 - accuracy: 0.0000e+00 - val_loss: 24.5061 - val_accuracy: 0.0000e+00\n",
            "Epoch 18/60\n",
            "9/9 [==============================] - 0s 6ms/step - loss: 11.9404 - accuracy: 0.0000e+00 - val_loss: 23.7799 - val_accuracy: 0.0000e+00\n",
            "Epoch 19/60\n",
            "9/9 [==============================] - 0s 5ms/step - loss: 10.5898 - accuracy: 0.0000e+00 - val_loss: 22.1057 - val_accuracy: 0.0000e+00\n",
            "Epoch 20/60\n",
            "9/9 [==============================] - 0s 5ms/step - loss: 10.9074 - accuracy: 0.0000e+00 - val_loss: 19.1264 - val_accuracy: 0.0000e+00\n",
            "Epoch 21/60\n",
            "9/9 [==============================] - 0s 6ms/step - loss: 9.9220 - accuracy: 0.0000e+00 - val_loss: 20.1644 - val_accuracy: 0.0000e+00\n",
            "Epoch 22/60\n",
            "9/9 [==============================] - 0s 5ms/step - loss: 9.8287 - accuracy: 0.0000e+00 - val_loss: 21.7338 - val_accuracy: 0.0000e+00\n",
            "Epoch 23/60\n",
            "9/9 [==============================] - 0s 6ms/step - loss: 9.8752 - accuracy: 0.0000e+00 - val_loss: 21.7642 - val_accuracy: 0.0000e+00\n",
            "Epoch 24/60\n",
            "9/9 [==============================] - 0s 5ms/step - loss: 11.2124 - accuracy: 0.0000e+00 - val_loss: 26.6579 - val_accuracy: 0.0000e+00\n",
            "Epoch 25/60\n",
            "9/9 [==============================] - 0s 6ms/step - loss: 8.4986 - accuracy: 0.0000e+00 - val_loss: 21.2820 - val_accuracy: 0.0000e+00\n",
            "Epoch 26/60\n",
            "9/9 [==============================] - 0s 5ms/step - loss: 8.8665 - accuracy: 0.0000e+00 - val_loss: 26.2888 - val_accuracy: 0.0000e+00\n",
            "Epoch 27/60\n",
            "9/9 [==============================] - 0s 5ms/step - loss: 11.7611 - accuracy: 0.0000e+00 - val_loss: 22.1497 - val_accuracy: 0.0000e+00\n",
            "Epoch 28/60\n",
            "9/9 [==============================] - 0s 5ms/step - loss: 7.1952 - accuracy: 0.0000e+00 - val_loss: 14.8558 - val_accuracy: 0.0000e+00\n",
            "Epoch 29/60\n",
            "9/9 [==============================] - 0s 5ms/step - loss: 16.8389 - accuracy: 0.0000e+00 - val_loss: 18.9779 - val_accuracy: 0.0000e+00\n",
            "Epoch 30/60\n",
            "9/9 [==============================] - 0s 5ms/step - loss: 10.4826 - accuracy: 0.0000e+00 - val_loss: 15.7682 - val_accuracy: 0.0000e+00\n",
            "Epoch 31/60\n",
            "9/9 [==============================] - 0s 5ms/step - loss: 7.3255 - accuracy: 0.0000e+00 - val_loss: 15.7860 - val_accuracy: 0.0000e+00\n",
            "Epoch 32/60\n",
            "9/9 [==============================] - 0s 5ms/step - loss: 7.1783 - accuracy: 0.0000e+00 - val_loss: 27.9408 - val_accuracy: 0.0000e+00\n",
            "Epoch 33/60\n",
            "9/9 [==============================] - 0s 5ms/step - loss: 9.8638 - accuracy: 0.0000e+00 - val_loss: 19.1305 - val_accuracy: 0.0000e+00\n",
            "Epoch 34/60\n",
            "9/9 [==============================] - 0s 6ms/step - loss: 8.9964 - accuracy: 0.0000e+00 - val_loss: 17.1803 - val_accuracy: 0.0000e+00\n",
            "Epoch 35/60\n",
            "9/9 [==============================] - 0s 5ms/step - loss: 6.9806 - accuracy: 0.0000e+00 - val_loss: 23.3577 - val_accuracy: 0.0000e+00\n",
            "Epoch 36/60\n",
            "9/9 [==============================] - 0s 6ms/step - loss: 8.5341 - accuracy: 0.0000e+00 - val_loss: 14.0390 - val_accuracy: 0.0000e+00\n",
            "Epoch 37/60\n",
            "9/9 [==============================] - 0s 7ms/step - loss: 5.6988 - accuracy: 0.0000e+00 - val_loss: 17.3474 - val_accuracy: 0.0000e+00\n",
            "Epoch 38/60\n",
            "9/9 [==============================] - 0s 7ms/step - loss: 7.2051 - accuracy: 0.0000e+00 - val_loss: 13.5064 - val_accuracy: 0.0000e+00\n",
            "Epoch 39/60\n",
            "9/9 [==============================] - 0s 7ms/step - loss: 10.9594 - accuracy: 0.0000e+00 - val_loss: 17.5580 - val_accuracy: 0.0000e+00\n",
            "Epoch 40/60\n",
            "9/9 [==============================] - 0s 6ms/step - loss: 8.5144 - accuracy: 0.0000e+00 - val_loss: 13.2743 - val_accuracy: 0.0000e+00\n",
            "Epoch 41/60\n",
            "9/9 [==============================] - 0s 7ms/step - loss: 5.0569 - accuracy: 0.0000e+00 - val_loss: 13.0549 - val_accuracy: 0.0000e+00\n",
            "Epoch 42/60\n",
            "9/9 [==============================] - 0s 7ms/step - loss: 5.7207 - accuracy: 0.0000e+00 - val_loss: 13.7490 - val_accuracy: 0.0000e+00\n",
            "Epoch 43/60\n",
            "9/9 [==============================] - 0s 7ms/step - loss: 6.8716 - accuracy: 0.0000e+00 - val_loss: 16.3781 - val_accuracy: 0.0000e+00\n",
            "Epoch 44/60\n",
            "9/9 [==============================] - 0s 6ms/step - loss: 4.4389 - accuracy: 0.0000e+00 - val_loss: 15.4461 - val_accuracy: 0.0000e+00\n",
            "Epoch 45/60\n",
            "9/9 [==============================] - 0s 6ms/step - loss: 4.6702 - accuracy: 0.0000e+00 - val_loss: 12.0724 - val_accuracy: 0.0000e+00\n",
            "Epoch 46/60\n",
            "9/9 [==============================] - 0s 7ms/step - loss: 4.9662 - accuracy: 0.0000e+00 - val_loss: 25.5362 - val_accuracy: 0.0000e+00\n",
            "Epoch 47/60\n",
            "9/9 [==============================] - 0s 7ms/step - loss: 4.9417 - accuracy: 0.0000e+00 - val_loss: 16.3814 - val_accuracy: 0.0000e+00\n",
            "Epoch 48/60\n",
            "9/9 [==============================] - 0s 6ms/step - loss: 4.6203 - accuracy: 0.0000e+00 - val_loss: 12.6399 - val_accuracy: 0.0000e+00\n",
            "Epoch 49/60\n",
            "9/9 [==============================] - 0s 7ms/step - loss: 5.8587 - accuracy: 0.0000e+00 - val_loss: 14.7745 - val_accuracy: 0.0000e+00\n",
            "Epoch 50/60\n",
            "9/9 [==============================] - 0s 8ms/step - loss: 5.9290 - accuracy: 0.0000e+00 - val_loss: 21.1245 - val_accuracy: 0.0000e+00\n",
            "Epoch 51/60\n",
            "9/9 [==============================] - 0s 5ms/step - loss: 8.8265 - accuracy: 0.0000e+00 - val_loss: 12.4966 - val_accuracy: 0.0000e+00\n",
            "Epoch 52/60\n",
            "9/9 [==============================] - 0s 5ms/step - loss: 5.8104 - accuracy: 0.0000e+00 - val_loss: 16.4651 - val_accuracy: 0.0000e+00\n",
            "Epoch 53/60\n",
            "9/9 [==============================] - 0s 5ms/step - loss: 5.6307 - accuracy: 0.0000e+00 - val_loss: 19.1415 - val_accuracy: 0.0000e+00\n",
            "Epoch 54/60\n",
            "9/9 [==============================] - 0s 5ms/step - loss: 5.0149 - accuracy: 0.0000e+00 - val_loss: 10.0026 - val_accuracy: 0.0000e+00\n",
            "Epoch 55/60\n",
            "9/9 [==============================] - 0s 5ms/step - loss: 3.6333 - accuracy: 0.0000e+00 - val_loss: 13.6863 - val_accuracy: 0.0000e+00\n",
            "Epoch 56/60\n",
            "9/9 [==============================] - 0s 5ms/step - loss: 4.7600 - accuracy: 0.0000e+00 - val_loss: 14.9039 - val_accuracy: 0.0000e+00\n",
            "Epoch 57/60\n",
            "9/9 [==============================] - 0s 8ms/step - loss: 5.4942 - accuracy: 0.0000e+00 - val_loss: 12.6500 - val_accuracy: 0.0000e+00\n",
            "Epoch 58/60\n",
            "9/9 [==============================] - 0s 5ms/step - loss: 4.5738 - accuracy: 0.0000e+00 - val_loss: 9.2023 - val_accuracy: 0.0000e+00\n",
            "Epoch 59/60\n",
            "9/9 [==============================] - 0s 5ms/step - loss: 3.1807 - accuracy: 0.0000e+00 - val_loss: 13.5056 - val_accuracy: 0.0000e+00\n",
            "Epoch 60/60\n",
            "9/9 [==============================] - 0s 4ms/step - loss: 3.1747 - accuracy: 0.0000e+00 - val_loss: 13.5312 - val_accuracy: 0.0000e+00\n"
          ]
        }
      ]
    },
    {
      "cell_type": "markdown",
      "metadata": {
        "id": "PvW4lJAH6sBE"
      },
      "source": [
        "##1. Linear Regression"
      ]
    },
    {
      "cell_type": "code",
      "execution_count": 62,
      "metadata": {
        "colab": {
          "base_uri": "https://localhost:8080/"
        },
        "id": "IHOg5NdPESvQ",
        "outputId": "7e2119c5-0f36-4f9d-b0da-5ed118c0c751"
      },
      "outputs": [
        {
          "output_type": "stream",
          "name": "stdout",
          "text": [
            "CV:  0.7648903620634623\n",
            "R2_score (train): 0.9391652139744588  ------------> 93.91652139744589%\n",
            "R2_score (test) : 0.8490890668675388  ------------> 84.90890668675388%\n",
            "RMSE:  12.581348053735088\n"
          ]
        }
      ],
      "source": [
        "from sklearn.linear_model import LinearRegression\n",
        "from sklearn.preprocessing import StandardScaler\n",
        "from sklearn.pipeline import Pipeline\n",
        "from sklearn.preprocessing import PolynomialFeatures\n",
        "from sklearn.model_selection import cross_val_score\n",
        "from sklearn.metrics import mean_squared_error\n",
        "from sklearn.metrics import r2_score\n",
        "\n",
        "steps = [\n",
        "          ('poly', PolynomialFeatures(degree=2)),\n",
        "          ('model', LinearRegression(fit_intercept=True))\n",
        "        ]\n",
        "\n",
        "lin_regressor = Pipeline(steps)\n",
        "lin_regressor.fit(X_train, y_train)\n",
        "\n",
        "#Applying Cross validation on train data\n",
        "cv_line_regressor = cross_val_score(estimator = lin_regressor, X = X_train, y = y_train, cv = 10)\n",
        "\n",
        "# Predicting R2 Score the Test set results\n",
        "y_pred_linear_train = lin_regressor.predict(X_train)\n",
        "r2_score_linear_train = r2_score(y_train, y_pred_linear_train)\n",
        "\n",
        "# Predicting R2 Score the Test set results\n",
        "y_pred_linear_test = lin_regressor.predict(X_test)\n",
        "r2_score_linear_test = r2_score(y_test, y_pred_linear_test)\n",
        "\n",
        "# Predicting RMSE on the Test set results\n",
        "mse_lin_regressor = mean_squared_error(y_test, y_pred_linear_test)\n",
        "print('CV: ', cv_line_regressor.mean())\n",
        "print('R2_score (train): {}  ------------> {}%'.format(r2_score_linear_train,r2_score_linear_train*100))\n",
        "print('R2_score (test) : {}  ------------> {}%'.format(r2_score_linear_test,r2_score_linear_test*100))\n",
        "print(\"RMSE: \", mse_lin_regressor)"
      ]
    },
    {
      "cell_type": "markdown",
      "metadata": {
        "id": "YSS7s26g1IiC"
      },
      "source": [
        "##2. Ridge Regression"
      ]
    },
    {
      "cell_type": "code",
      "execution_count": 63,
      "metadata": {
        "colab": {
          "base_uri": "https://localhost:8080/"
        },
        "id": "Z0OSBBMez6kA",
        "outputId": "92a3bfea-f669-44b1-da5a-fa4ee6fef661"
      },
      "outputs": [
        {
          "output_type": "stream",
          "name": "stdout",
          "text": [
            "CV:  0.7775352258520825\n",
            "R2_score (train): 0.9389978400436388  ------------> 93.89978400436388%\n",
            "R2_score (test) : 0.8474231880218261  ------------> 84.74231880218261%\n",
            "RMSE:  12.72023130850145\n"
          ]
        }
      ],
      "source": [
        "from sklearn.linear_model import Ridge\n",
        "from sklearn.preprocessing import StandardScaler\n",
        "from sklearn.pipeline import Pipeline\n",
        "from sklearn.preprocessing import PolynomialFeatures\n",
        "from sklearn.model_selection import cross_val_score\n",
        "from sklearn.metrics import mean_squared_error\n",
        "\n",
        "steps = [\n",
        "          ('poly', PolynomialFeatures(degree=2)),\n",
        "          ('model', Ridge(alpha=.02, fit_intercept=True))\n",
        "        ]\n",
        "\n",
        "ridge_pipe = Pipeline(steps)\n",
        "ridge_pipe.fit(X_train, y_train)\n",
        "\n",
        "#Applying Cross validation on train data\n",
        "cv_ridge = cross_val_score(estimator = ridge_pipe, X = X_train, y = y_train, cv = 10)\n",
        "\n",
        "# Predicting R2 Score the Test set results\n",
        "y_pred_ridge_train = ridge_pipe.predict(X_train)\n",
        "r2_score_ridge_train = r2_score(y_train, y_pred_ridge_train)\n",
        "\n",
        "# Predicting R2 Score the Test set results\n",
        "y_pred_ridge_test = ridge_pipe.predict(X_test)\n",
        "r2_score_ridge_test = r2_score(y_test, y_pred_ridge_test)\n",
        "\n",
        "# Predicting RMSE the Test set results\n",
        "mse_ridge = mean_squared_error(y_test, y_pred_ridge_test)\n",
        "print('CV: ', cv_ridge.mean())\n",
        "print('R2_score (train): {}  ------------> {}%'.format(r2_score_ridge_train,r2_score_ridge_train*100))\n",
        "print('R2_score (test) : {}  ------------> {}%'.format(r2_score_ridge_test,r2_score_ridge_test*100))\n",
        "print(\"RMSE: \", mse_ridge)"
      ]
    },
    {
      "cell_type": "markdown",
      "metadata": {
        "id": "8RLU-PAF_Mdp"
      },
      "source": [
        "##3. Lasso Regression"
      ]
    },
    {
      "cell_type": "code",
      "execution_count": 64,
      "metadata": {
        "colab": {
          "base_uri": "https://localhost:8080/"
        },
        "id": "Odr8i-eBYkfh",
        "outputId": "e097571b-f563-481a-e1fd-9466294d4a8c"
      },
      "outputs": [
        {
          "output_type": "stream",
          "name": "stdout",
          "text": [
            "CV:  0.819351838345872\n",
            "R2_score (train): 0.9308197964162684  ------------> 93.08197964162684%\n",
            "R2_score (test) : 0.8370695855981063  ------------> 83.70695855981063%\n",
            "RMSE:  13.583404525967927\n"
          ]
        }
      ],
      "source": [
        "from sklearn.linear_model import Lasso\n",
        "from sklearn.preprocessing import StandardScaler\n",
        "from sklearn.pipeline import Pipeline\n",
        "from sklearn.preprocessing import PolynomialFeatures\n",
        "from sklearn.metrics import r2_score\n",
        "\n",
        "steps = [\n",
        "          ('poly', PolynomialFeatures(degree=2)),\n",
        "          ('model', Lasso(alpha=0.013, fit_intercept=True, max_iter=3000))\n",
        "        ]\n",
        "\n",
        "lasso_pipe = Pipeline(steps)\n",
        "lasso_pipe.fit(X_train, y_train)\n",
        "\n",
        "# Predicting Cross Validation Score\n",
        "cv_lasso = cross_val_score(estimator = lasso_pipe, X = X_train, y = y_train, cv = 10)\n",
        "\n",
        "# Predicting R2 Score the Test set results\n",
        "y_pred_lasso_train = lasso_pipe.predict(X_train)\n",
        "r2_score_lasso_train = r2_score(y_train, y_pred_lasso_train)\n",
        "\n",
        "# Predicting R2 Score the Test set results\n",
        "y_pred_lasso_test = lasso_pipe.predict(X_test)\n",
        "r2_score_lasso_test = r2_score(y_test, y_pred_lasso_test)\n",
        "\n",
        "# Predicting RMSE the Test set results\n",
        "mse_lasso = mean_squared_error(y_test, y_pred_lasso_test)\n",
        "print('CV: ', cv_lasso.mean())\n",
        "print('R2_score (train): {}  ------------> {}%'.format(r2_score_lasso_train,r2_score_lasso_train*100))\n",
        "print('R2_score (test) : {}  ------------> {}%'.format(r2_score_lasso_test,r2_score_lasso_test*100))\n",
        "print(\"RMSE: \", mse_lasso)"
      ]
    },
    {
      "cell_type": "markdown",
      "source": [
        "##Gradient Boost Regressing"
      ],
      "metadata": {
        "id": "SjeP0KAlDQaB"
      }
    },
    {
      "cell_type": "code",
      "execution_count": 65,
      "metadata": {
        "colab": {
          "base_uri": "https://localhost:8080/"
        },
        "id": "BhSyQo9-sZfD",
        "outputId": "db6b6718-5c85-4a4b-a236-8a34b07ef2bd"
      },
      "outputs": [
        {
          "output_type": "stream",
          "name": "stdout",
          "text": [
            "CV:  0.8393644119465262\n",
            "R2_score (train):  0.9860005810715711\n",
            "R2_score (test):  0.8475813754911088\n",
            "RMSE:  12.707043320279032\n"
          ]
        },
        {
          "output_type": "execute_result",
          "data": {
            "text/plain": [
              "0.8475813754911088"
            ]
          },
          "metadata": {},
          "execution_count": 65
        }
      ],
      "source": [
        "from sklearn.ensemble import GradientBoostingRegressor\n",
        "\n",
        "gbr = GradientBoostingRegressor()\n",
        "gbr.fit(X_train, y_train)\n",
        "\n",
        "predicted = gbr.predict(X_test)\n",
        "expected = y_test\n",
        "cv_gbr = cross_val_score(estimator = gbr, X = X_train, y = y_train, cv = 10)\n",
        "y_pred_gbr_train = gbr.predict(X_train)\n",
        "r2_score_gbr_train = r2_score(y_train, y_pred_gbr_train)\n",
        "\n",
        "# Predicting R2 Score the Test set results\n",
        "y_pred_gbr_test = gbr.predict(X_test)\n",
        "r2_score_gbr_test = r2_score(y_test, y_pred_gbr_test)\n",
        "\n",
        "# Predicting RMSE the Test set results\n",
        "mse_gbr = mean_squared_error(y_test, y_pred_gbr_test)\n",
        "print('CV: ', cv_gbr.mean())\n",
        "print('R2_score (train): ', r2_score_gbr_train)\n",
        "print('R2_score (test): ', r2_score_gbr_test)\n",
        "print(\"RMSE: \", mse_gbr)\n",
        "gbr.score(X_test,y_test)"
      ]
    },
    {
      "cell_type": "markdown",
      "metadata": {
        "id": "hPoQ4dVTCdVz"
      },
      "source": [
        "## 4. Decision Tree"
      ]
    },
    {
      "cell_type": "code",
      "execution_count": 66,
      "metadata": {
        "colab": {
          "base_uri": "https://localhost:8080/"
        },
        "id": "utfQPRahDP34",
        "outputId": "dc9819e1-de19-4735-dadb-5a8f0b886fb5"
      },
      "outputs": [
        {
          "output_type": "stream",
          "name": "stdout",
          "text": [
            "CV:  0.7464347305570177\n",
            "R2_score (train):  0.8949804075664611\n",
            "R2_score (test):  0.7052403498395083\n",
            "RMSE:  24.573923664041256\n"
          ]
        }
      ],
      "source": [
        "from sklearn.tree import DecisionTreeRegressor\n",
        "from sklearn.metrics import r2_score\n",
        "regressor_dt = DecisionTreeRegressor(max_depth=4, random_state = 0)\n",
        "regressor_dt.fit(X_train, y_train)\n",
        "\n",
        "\n",
        "# Predicting Cross Validation Score\n",
        "cv_dt = cross_val_score(estimator = regressor_dt, X = X_train, y = y_train, cv = 10)\n",
        "\n",
        "# Predicting R2 Score the Train set results\n",
        "y_pred_dt_train = regressor_dt.predict(X_train)\n",
        "r2_score_dt_train = r2_score(y_train, y_pred_dt_train)\n",
        "\n",
        "# Predicting R2 Score the Test set results\n",
        "y_pred_dt_test = regressor_dt.predict(X_test)\n",
        "r2_score_dt_test = r2_score(y_test, y_pred_dt_test)\n",
        "\n",
        "# Predicting RMSE the Test set results\n",
        "mse_dt = mean_squared_error(y_test, y_pred_dt_test)\n",
        "print('CV: ', cv_dt.mean())\n",
        "print('R2_score (train): ', r2_score_dt_train)\n",
        "print('R2_score (test): ', r2_score_dt_test)\n",
        "print(\"RMSE: \", mse_dt)"
      ]
    },
    {
      "cell_type": "markdown",
      "metadata": {
        "id": "3MlQ89MpWt7N"
      },
      "source": [
        "##5. Random Forest Regression"
      ]
    },
    {
      "cell_type": "code",
      "execution_count": 67,
      "metadata": {
        "colab": {
          "base_uri": "https://localhost:8080/"
        },
        "id": "F0unFqoQ8Vgo",
        "outputId": "1755f3a7-b111-4d2d-a6da-605f74a8382f"
      },
      "outputs": [
        {
          "output_type": "stream",
          "name": "stdout",
          "text": [
            "CV:  0.8230648744661891\n",
            "R2_score (train):  0.9797895970448821\n",
            "R2_score (test):  0.8597148400865418\n",
            "RMSE:  11.695484131000004\n"
          ]
        }
      ],
      "source": [
        "from sklearn.ensemble import RandomForestRegressor\n",
        "from sklearn.metrics import r2_score\n",
        "\n",
        "rf_regressor = RandomForestRegressor(n_estimators = 500, random_state = 0)\n",
        "rf_regressor.fit(X_train, y_train)\n",
        "\n",
        "cv_rf = cross_val_score(estimator = rf_regressor, X = X_train, y = y_train, cv = 10)\n",
        "\n",
        "y_pred_rf_train = rf_regressor.predict(X_train)\n",
        "r2_score_rf_train = r2_score(y_train, y_pred_rf_train)\n",
        "\n",
        "y_pred_rf_test = rf_regressor.predict(X_test)\n",
        "r2_score_rf_test = r2_score(y_test, y_pred_rf_test)\n",
        "\n",
        "# Predicting RMSE the Test set results\n",
        "mse_rf = mean_squared_error(y_test, y_pred_rf_test)\n",
        "print('CV: ', cv_rf.mean())\n",
        "print('R2_score (train): ', r2_score_rf_train)\n",
        "print('R2_score (test): ', r2_score_rf_test)\n",
        "print(\"RMSE: \", mse_rf)"
      ]
    },
    {
      "cell_type": "markdown",
      "metadata": {
        "id": "JrhNIyBKCg-0"
      },
      "source": [
        "##6. XGBoost Regression"
      ]
    },
    {
      "cell_type": "code",
      "execution_count": 68,
      "metadata": {
        "colab": {
          "base_uri": "https://localhost:8080/"
        },
        "id": "iCbJd2KDsose",
        "outputId": "147386c5-6234-4423-a1c1-75225952822d"
      },
      "outputs": [
        {
          "output_type": "stream",
          "name": "stdout",
          "text": [
            "Learning rate :  0.11\n",
            "CV:  0.8086925466596337\n",
            "R2_score (train):  0.9824674972813897\n",
            "R2_score (test):  0.8037485108293709\n",
            "RMSE:  16.361361235188046\n"
          ]
        }
      ],
      "source": [
        "import xgboost as xgb\n",
        "from sklearn.model_selection import cross_val_score\n",
        "import numpy as np\n",
        "\n",
        "xgb_regressor = xgb.XGBRegressor(learning_rate =.11, n_estimators=100, verbosity = 0, random_state=0) # initialise the model\n",
        "xgb_regressor.fit(X_train,y_train) #train the model\n",
        "xgb_regressor.score(X_test, y_test) # scoring the model - r2 squared\n",
        "xgbr_cross_val_score = np.mean(cross_val_score(xgb_regressor, X_train, y_train, cv=10))\n",
        "print(\"Learning rate : \", .11)\n",
        "\n",
        "y_pred_xgbr_train = xgb_regressor.predict(X_train)\n",
        "r2_score_xgbr_train = r2_score(y_train, y_pred_xgbr_train)\n",
        "\n",
        "y_pred_xgbr_test = xgb_regressor.predict(X_test)\n",
        "r2_score_xgbr_test = r2_score(y_test, y_pred_xgbr_test)\n",
        "\n",
        "mse_xgbr = mean_squared_error(y_test, y_pred_xgbr_test)\n",
        "print('CV: ', xgbr_cross_val_score)\n",
        "print('R2_score (train): ', r2_score_xgbr_train)\n",
        "print('R2_score (test): ', r2_score_xgbr_test)\n",
        "print(\"RMSE: \", mse_xgbr)"
      ]
    },
    {
      "cell_type": "markdown",
      "metadata": {
        "id": "LBCzn5RODntu"
      },
      "source": [
        "#Measuring Errors"
      ]
    },
    {
      "cell_type": "code",
      "execution_count": 69,
      "metadata": {
        "id": "QEt2c7EVDrli",
        "colab": {
          "base_uri": "https://localhost:8080/",
          "height": 269
        },
        "outputId": "a24e4074-155c-4653-cf12-46f201b8a114"
      },
      "outputs": [
        {
          "output_type": "execute_result",
          "data": {
            "text/plain": [
              "                      Model       RMSE  R2_Score(training)  R2_Score(test)  \\\n",
              "0         Linear Regression  12.581348            0.939165        0.849089   \n",
              "1          Ridge Regression  12.720231            0.938998        0.847423   \n",
              "2          Lasso Regression  13.583405            0.930820        0.837070   \n",
              "3  Decision Tree Regression  24.573924            0.894980        0.705240   \n",
              "4  Random Forest Regression  11.695484            0.979790        0.859715   \n",
              "5             GB Regression  12.707043            0.986001        0.847581   \n",
              "6            XGB Regression  16.361361            0.982467        0.803749   \n",
              "\n",
              "   Cross-Validation  \n",
              "0          0.764890  \n",
              "1          0.777535  \n",
              "2          0.819352  \n",
              "3          0.746435  \n",
              "4          0.823065  \n",
              "5          0.839364  \n",
              "6          0.808693  "
            ],
            "text/html": [
              "\n",
              "  <div id=\"df-0c25ee80-5990-4834-92b4-abacabd9011c\">\n",
              "    <div class=\"colab-df-container\">\n",
              "      <div>\n",
              "<style scoped>\n",
              "    .dataframe tbody tr th:only-of-type {\n",
              "        vertical-align: middle;\n",
              "    }\n",
              "\n",
              "    .dataframe tbody tr th {\n",
              "        vertical-align: top;\n",
              "    }\n",
              "\n",
              "    .dataframe thead th {\n",
              "        text-align: right;\n",
              "    }\n",
              "</style>\n",
              "<table border=\"1\" class=\"dataframe\">\n",
              "  <thead>\n",
              "    <tr style=\"text-align: right;\">\n",
              "      <th></th>\n",
              "      <th>Model</th>\n",
              "      <th>RMSE</th>\n",
              "      <th>R2_Score(training)</th>\n",
              "      <th>R2_Score(test)</th>\n",
              "      <th>Cross-Validation</th>\n",
              "    </tr>\n",
              "  </thead>\n",
              "  <tbody>\n",
              "    <tr>\n",
              "      <th>0</th>\n",
              "      <td>Linear Regression</td>\n",
              "      <td>12.581348</td>\n",
              "      <td>0.939165</td>\n",
              "      <td>0.849089</td>\n",
              "      <td>0.764890</td>\n",
              "    </tr>\n",
              "    <tr>\n",
              "      <th>1</th>\n",
              "      <td>Ridge Regression</td>\n",
              "      <td>12.720231</td>\n",
              "      <td>0.938998</td>\n",
              "      <td>0.847423</td>\n",
              "      <td>0.777535</td>\n",
              "    </tr>\n",
              "    <tr>\n",
              "      <th>2</th>\n",
              "      <td>Lasso Regression</td>\n",
              "      <td>13.583405</td>\n",
              "      <td>0.930820</td>\n",
              "      <td>0.837070</td>\n",
              "      <td>0.819352</td>\n",
              "    </tr>\n",
              "    <tr>\n",
              "      <th>3</th>\n",
              "      <td>Decision Tree Regression</td>\n",
              "      <td>24.573924</td>\n",
              "      <td>0.894980</td>\n",
              "      <td>0.705240</td>\n",
              "      <td>0.746435</td>\n",
              "    </tr>\n",
              "    <tr>\n",
              "      <th>4</th>\n",
              "      <td>Random Forest Regression</td>\n",
              "      <td>11.695484</td>\n",
              "      <td>0.979790</td>\n",
              "      <td>0.859715</td>\n",
              "      <td>0.823065</td>\n",
              "    </tr>\n",
              "    <tr>\n",
              "      <th>5</th>\n",
              "      <td>GB Regression</td>\n",
              "      <td>12.707043</td>\n",
              "      <td>0.986001</td>\n",
              "      <td>0.847581</td>\n",
              "      <td>0.839364</td>\n",
              "    </tr>\n",
              "    <tr>\n",
              "      <th>6</th>\n",
              "      <td>XGB Regression</td>\n",
              "      <td>16.361361</td>\n",
              "      <td>0.982467</td>\n",
              "      <td>0.803749</td>\n",
              "      <td>0.808693</td>\n",
              "    </tr>\n",
              "  </tbody>\n",
              "</table>\n",
              "</div>\n",
              "      <button class=\"colab-df-convert\" onclick=\"convertToInteractive('df-0c25ee80-5990-4834-92b4-abacabd9011c')\"\n",
              "              title=\"Convert this dataframe to an interactive table.\"\n",
              "              style=\"display:none;\">\n",
              "        \n",
              "  <svg xmlns=\"http://www.w3.org/2000/svg\" height=\"24px\"viewBox=\"0 0 24 24\"\n",
              "       width=\"24px\">\n",
              "    <path d=\"M0 0h24v24H0V0z\" fill=\"none\"/>\n",
              "    <path d=\"M18.56 5.44l.94 2.06.94-2.06 2.06-.94-2.06-.94-.94-2.06-.94 2.06-2.06.94zm-11 1L8.5 8.5l.94-2.06 2.06-.94-2.06-.94L8.5 2.5l-.94 2.06-2.06.94zm10 10l.94 2.06.94-2.06 2.06-.94-2.06-.94-.94-2.06-.94 2.06-2.06.94z\"/><path d=\"M17.41 7.96l-1.37-1.37c-.4-.4-.92-.59-1.43-.59-.52 0-1.04.2-1.43.59L10.3 9.45l-7.72 7.72c-.78.78-.78 2.05 0 2.83L4 21.41c.39.39.9.59 1.41.59.51 0 1.02-.2 1.41-.59l7.78-7.78 2.81-2.81c.8-.78.8-2.07 0-2.86zM5.41 20L4 18.59l7.72-7.72 1.47 1.35L5.41 20z\"/>\n",
              "  </svg>\n",
              "      </button>\n",
              "      \n",
              "  <style>\n",
              "    .colab-df-container {\n",
              "      display:flex;\n",
              "      flex-wrap:wrap;\n",
              "      gap: 12px;\n",
              "    }\n",
              "\n",
              "    .colab-df-convert {\n",
              "      background-color: #E8F0FE;\n",
              "      border: none;\n",
              "      border-radius: 50%;\n",
              "      cursor: pointer;\n",
              "      display: none;\n",
              "      fill: #1967D2;\n",
              "      height: 32px;\n",
              "      padding: 0 0 0 0;\n",
              "      width: 32px;\n",
              "    }\n",
              "\n",
              "    .colab-df-convert:hover {\n",
              "      background-color: #E2EBFA;\n",
              "      box-shadow: 0px 1px 2px rgba(60, 64, 67, 0.3), 0px 1px 3px 1px rgba(60, 64, 67, 0.15);\n",
              "      fill: #174EA6;\n",
              "    }\n",
              "\n",
              "    [theme=dark] .colab-df-convert {\n",
              "      background-color: #3B4455;\n",
              "      fill: #D2E3FC;\n",
              "    }\n",
              "\n",
              "    [theme=dark] .colab-df-convert:hover {\n",
              "      background-color: #434B5C;\n",
              "      box-shadow: 0px 1px 3px 1px rgba(0, 0, 0, 0.15);\n",
              "      filter: drop-shadow(0px 1px 2px rgba(0, 0, 0, 0.3));\n",
              "      fill: #FFFFFF;\n",
              "    }\n",
              "  </style>\n",
              "\n",
              "      <script>\n",
              "        const buttonEl =\n",
              "          document.querySelector('#df-0c25ee80-5990-4834-92b4-abacabd9011c button.colab-df-convert');\n",
              "        buttonEl.style.display =\n",
              "          google.colab.kernel.accessAllowed ? 'block' : 'none';\n",
              "\n",
              "        async function convertToInteractive(key) {\n",
              "          const element = document.querySelector('#df-0c25ee80-5990-4834-92b4-abacabd9011c');\n",
              "          const dataTable =\n",
              "            await google.colab.kernel.invokeFunction('convertToInteractive',\n",
              "                                                     [key], {});\n",
              "          if (!dataTable) return;\n",
              "\n",
              "          const docLinkHtml = 'Like what you see? Visit the ' +\n",
              "            '<a target=\"_blank\" href=https://colab.research.google.com/notebooks/data_table.ipynb>data table notebook</a>'\n",
              "            + ' to learn more about interactive tables.';\n",
              "          element.innerHTML = '';\n",
              "          dataTable['output_type'] = 'display_data';\n",
              "          await google.colab.output.renderOutput(dataTable, element);\n",
              "          const docLink = document.createElement('div');\n",
              "          docLink.innerHTML = docLinkHtml;\n",
              "          element.appendChild(docLink);\n",
              "        }\n",
              "      </script>\n",
              "    </div>\n",
              "  </div>\n",
              "  "
            ]
          },
          "metadata": {},
          "execution_count": 69
        }
      ],
      "source": [
        "models = [('Linear Regression', mse_lin_regressor, r2_score_linear_train, r2_score_linear_test, cv_line_regressor.mean()),\n",
        "          ('Ridge Regression', mse_ridge, r2_score_ridge_train, r2_score_ridge_test, cv_ridge.mean()),\n",
        "          ('Lasso Regression', mse_lasso, r2_score_lasso_train, r2_score_lasso_test, cv_lasso.mean()),\n",
        "          ('Decision Tree Regression', mse_dt, r2_score_dt_train, r2_score_dt_test, cv_dt.mean()),\n",
        "          ('Random Forest Regression', mse_rf, r2_score_rf_train, r2_score_rf_test, cv_rf.mean()),\n",
        "          ('GB Regression', mse_gbr, r2_score_gbr_train, r2_score_gbr_test, cv_gbr.mean()),\n",
        "          ('XGB Regression', mse_xgbr, r2_score_xgbr_train, r2_score_xgbr_test, xgbr_cross_val_score)\n",
        "         ]\n",
        "Table = pd.DataFrame(data = models, columns=['Model', 'RMSE', 'R2_Score(training)', 'R2_Score(test)', 'Cross-Validation'])\n",
        "Table"
      ]
    },
    {
      "cell_type": "markdown",
      "metadata": {
        "id": "NpWY3rFy7ZVZ"
      },
      "source": [
        "#Importing Test Data To Predict Target by Best Model"
      ]
    },
    {
      "cell_type": "code",
      "execution_count": 92,
      "metadata": {
        "id": "HDG8a4X87YT0"
      },
      "outputs": [],
      "source": [
        "df2 = pd.read_csv('https://raw.githubusercontent.com/ShubhamAgr09/Training-Datasets/main/BostonHousing_test.csv')\n",
        "Xn = df2.iloc[:,1:].values\n",
        "# Xn = scaler.transform(Xn)"
      ]
    },
    {
      "cell_type": "code",
      "execution_count": 93,
      "metadata": {
        "id": "y63tUAGraF7H",
        "colab": {
          "base_uri": "https://localhost:8080/"
        },
        "outputId": "fafc367f-64f7-450c-d7b1-f5bf4d581f37"
      },
      "outputs": [
        {
          "output_type": "execute_result",
          "data": {
            "text/plain": [
              "(105,)"
            ]
          },
          "metadata": {},
          "execution_count": 93
        }
      ],
      "source": [
        "y_pred_rf_test = rf_regressor.predict(Xn)\n",
        "y_pred_rf_test.shape"
      ]
    },
    {
      "cell_type": "code",
      "execution_count": 94,
      "metadata": {
        "id": "G4GAJUl2a9rz",
        "colab": {
          "base_uri": "https://localhost:8080/",
          "height": 423
        },
        "outputId": "13386382-68dd-40e0-8658-3736cf835d72"
      },
      "outputs": [
        {
          "output_type": "execute_result",
          "data": {
            "text/plain": [
              "      ID      CRIM    ZN  INDUS  CHAS    NOX     RM   AGE     DIS  RAD    TAX  \\\n",
              "0      0   0.10612  30.0   4.93     0  0.428  6.095  65.1  6.3361    6  300.0   \n",
              "1      1   0.34109   0.0   7.38     0  0.493  6.415  40.1  4.7211    5  287.0   \n",
              "2      2  12.24720   0.0  18.10     0  0.584  5.837  59.7  1.9976   24  666.0   \n",
              "3      3   0.22489  12.5   7.87     0  0.524  6.377  94.3  6.3467    5  311.0   \n",
              "4      4   1.80028   0.0  19.58     0  0.605  5.877  79.2  2.4259    5  403.0   \n",
              "..   ...       ...   ...    ...   ...    ...    ...   ...     ...  ...    ...   \n",
              "100  100   0.19073  22.0   5.86     0  0.431  6.718  17.5  7.8265    7  330.0   \n",
              "101  101   6.96215   0.0  18.10     0  0.700  5.713  97.0  1.9265   24  666.0   \n",
              "102  102   0.05360  21.0   5.64     0  0.439  6.511  21.1  6.8147    4  243.0   \n",
              "103  103   0.10469  40.0   6.41     1  0.447  7.267  49.0  4.7872    4  254.0   \n",
              "104  104   4.55587   0.0  18.10     0  0.718  3.561  87.9  1.6132   24  666.0   \n",
              "\n",
              "     PTRATIO       B  LSTAT  Predicted_Price  \n",
              "0       16.6  394.62  12.40          26.0282  \n",
              "1       19.6  396.90   6.12          25.5182  \n",
              "2       20.2   24.65  15.69          24.8804  \n",
              "3       15.2  392.52  20.45          25.5812  \n",
              "4       14.7  227.61  12.14          25.1398  \n",
              "..       ...     ...    ...              ...  \n",
              "100     19.1  393.74   6.56          25.7704  \n",
              "101     20.2  394.43  17.11          24.8804  \n",
              "102     16.8  396.90   5.28          26.0302  \n",
              "103     17.6  389.25   6.05          26.0282  \n",
              "104     20.2  354.70   7.12          24.8658  \n",
              "\n",
              "[105 rows x 15 columns]"
            ],
            "text/html": [
              "\n",
              "  <div id=\"df-8e87fe19-5781-49ce-b077-a3a45af541df\">\n",
              "    <div class=\"colab-df-container\">\n",
              "      <div>\n",
              "<style scoped>\n",
              "    .dataframe tbody tr th:only-of-type {\n",
              "        vertical-align: middle;\n",
              "    }\n",
              "\n",
              "    .dataframe tbody tr th {\n",
              "        vertical-align: top;\n",
              "    }\n",
              "\n",
              "    .dataframe thead th {\n",
              "        text-align: right;\n",
              "    }\n",
              "</style>\n",
              "<table border=\"1\" class=\"dataframe\">\n",
              "  <thead>\n",
              "    <tr style=\"text-align: right;\">\n",
              "      <th></th>\n",
              "      <th>ID</th>\n",
              "      <th>CRIM</th>\n",
              "      <th>ZN</th>\n",
              "      <th>INDUS</th>\n",
              "      <th>CHAS</th>\n",
              "      <th>NOX</th>\n",
              "      <th>RM</th>\n",
              "      <th>AGE</th>\n",
              "      <th>DIS</th>\n",
              "      <th>RAD</th>\n",
              "      <th>TAX</th>\n",
              "      <th>PTRATIO</th>\n",
              "      <th>B</th>\n",
              "      <th>LSTAT</th>\n",
              "      <th>Predicted_Price</th>\n",
              "    </tr>\n",
              "  </thead>\n",
              "  <tbody>\n",
              "    <tr>\n",
              "      <th>0</th>\n",
              "      <td>0</td>\n",
              "      <td>0.10612</td>\n",
              "      <td>30.0</td>\n",
              "      <td>4.93</td>\n",
              "      <td>0</td>\n",
              "      <td>0.428</td>\n",
              "      <td>6.095</td>\n",
              "      <td>65.1</td>\n",
              "      <td>6.3361</td>\n",
              "      <td>6</td>\n",
              "      <td>300.0</td>\n",
              "      <td>16.6</td>\n",
              "      <td>394.62</td>\n",
              "      <td>12.40</td>\n",
              "      <td>26.0282</td>\n",
              "    </tr>\n",
              "    <tr>\n",
              "      <th>1</th>\n",
              "      <td>1</td>\n",
              "      <td>0.34109</td>\n",
              "      <td>0.0</td>\n",
              "      <td>7.38</td>\n",
              "      <td>0</td>\n",
              "      <td>0.493</td>\n",
              "      <td>6.415</td>\n",
              "      <td>40.1</td>\n",
              "      <td>4.7211</td>\n",
              "      <td>5</td>\n",
              "      <td>287.0</td>\n",
              "      <td>19.6</td>\n",
              "      <td>396.90</td>\n",
              "      <td>6.12</td>\n",
              "      <td>25.5182</td>\n",
              "    </tr>\n",
              "    <tr>\n",
              "      <th>2</th>\n",
              "      <td>2</td>\n",
              "      <td>12.24720</td>\n",
              "      <td>0.0</td>\n",
              "      <td>18.10</td>\n",
              "      <td>0</td>\n",
              "      <td>0.584</td>\n",
              "      <td>5.837</td>\n",
              "      <td>59.7</td>\n",
              "      <td>1.9976</td>\n",
              "      <td>24</td>\n",
              "      <td>666.0</td>\n",
              "      <td>20.2</td>\n",
              "      <td>24.65</td>\n",
              "      <td>15.69</td>\n",
              "      <td>24.8804</td>\n",
              "    </tr>\n",
              "    <tr>\n",
              "      <th>3</th>\n",
              "      <td>3</td>\n",
              "      <td>0.22489</td>\n",
              "      <td>12.5</td>\n",
              "      <td>7.87</td>\n",
              "      <td>0</td>\n",
              "      <td>0.524</td>\n",
              "      <td>6.377</td>\n",
              "      <td>94.3</td>\n",
              "      <td>6.3467</td>\n",
              "      <td>5</td>\n",
              "      <td>311.0</td>\n",
              "      <td>15.2</td>\n",
              "      <td>392.52</td>\n",
              "      <td>20.45</td>\n",
              "      <td>25.5812</td>\n",
              "    </tr>\n",
              "    <tr>\n",
              "      <th>4</th>\n",
              "      <td>4</td>\n",
              "      <td>1.80028</td>\n",
              "      <td>0.0</td>\n",
              "      <td>19.58</td>\n",
              "      <td>0</td>\n",
              "      <td>0.605</td>\n",
              "      <td>5.877</td>\n",
              "      <td>79.2</td>\n",
              "      <td>2.4259</td>\n",
              "      <td>5</td>\n",
              "      <td>403.0</td>\n",
              "      <td>14.7</td>\n",
              "      <td>227.61</td>\n",
              "      <td>12.14</td>\n",
              "      <td>25.1398</td>\n",
              "    </tr>\n",
              "    <tr>\n",
              "      <th>...</th>\n",
              "      <td>...</td>\n",
              "      <td>...</td>\n",
              "      <td>...</td>\n",
              "      <td>...</td>\n",
              "      <td>...</td>\n",
              "      <td>...</td>\n",
              "      <td>...</td>\n",
              "      <td>...</td>\n",
              "      <td>...</td>\n",
              "      <td>...</td>\n",
              "      <td>...</td>\n",
              "      <td>...</td>\n",
              "      <td>...</td>\n",
              "      <td>...</td>\n",
              "      <td>...</td>\n",
              "    </tr>\n",
              "    <tr>\n",
              "      <th>100</th>\n",
              "      <td>100</td>\n",
              "      <td>0.19073</td>\n",
              "      <td>22.0</td>\n",
              "      <td>5.86</td>\n",
              "      <td>0</td>\n",
              "      <td>0.431</td>\n",
              "      <td>6.718</td>\n",
              "      <td>17.5</td>\n",
              "      <td>7.8265</td>\n",
              "      <td>7</td>\n",
              "      <td>330.0</td>\n",
              "      <td>19.1</td>\n",
              "      <td>393.74</td>\n",
              "      <td>6.56</td>\n",
              "      <td>25.7704</td>\n",
              "    </tr>\n",
              "    <tr>\n",
              "      <th>101</th>\n",
              "      <td>101</td>\n",
              "      <td>6.96215</td>\n",
              "      <td>0.0</td>\n",
              "      <td>18.10</td>\n",
              "      <td>0</td>\n",
              "      <td>0.700</td>\n",
              "      <td>5.713</td>\n",
              "      <td>97.0</td>\n",
              "      <td>1.9265</td>\n",
              "      <td>24</td>\n",
              "      <td>666.0</td>\n",
              "      <td>20.2</td>\n",
              "      <td>394.43</td>\n",
              "      <td>17.11</td>\n",
              "      <td>24.8804</td>\n",
              "    </tr>\n",
              "    <tr>\n",
              "      <th>102</th>\n",
              "      <td>102</td>\n",
              "      <td>0.05360</td>\n",
              "      <td>21.0</td>\n",
              "      <td>5.64</td>\n",
              "      <td>0</td>\n",
              "      <td>0.439</td>\n",
              "      <td>6.511</td>\n",
              "      <td>21.1</td>\n",
              "      <td>6.8147</td>\n",
              "      <td>4</td>\n",
              "      <td>243.0</td>\n",
              "      <td>16.8</td>\n",
              "      <td>396.90</td>\n",
              "      <td>5.28</td>\n",
              "      <td>26.0302</td>\n",
              "    </tr>\n",
              "    <tr>\n",
              "      <th>103</th>\n",
              "      <td>103</td>\n",
              "      <td>0.10469</td>\n",
              "      <td>40.0</td>\n",
              "      <td>6.41</td>\n",
              "      <td>1</td>\n",
              "      <td>0.447</td>\n",
              "      <td>7.267</td>\n",
              "      <td>49.0</td>\n",
              "      <td>4.7872</td>\n",
              "      <td>4</td>\n",
              "      <td>254.0</td>\n",
              "      <td>17.6</td>\n",
              "      <td>389.25</td>\n",
              "      <td>6.05</td>\n",
              "      <td>26.0282</td>\n",
              "    </tr>\n",
              "    <tr>\n",
              "      <th>104</th>\n",
              "      <td>104</td>\n",
              "      <td>4.55587</td>\n",
              "      <td>0.0</td>\n",
              "      <td>18.10</td>\n",
              "      <td>0</td>\n",
              "      <td>0.718</td>\n",
              "      <td>3.561</td>\n",
              "      <td>87.9</td>\n",
              "      <td>1.6132</td>\n",
              "      <td>24</td>\n",
              "      <td>666.0</td>\n",
              "      <td>20.2</td>\n",
              "      <td>354.70</td>\n",
              "      <td>7.12</td>\n",
              "      <td>24.8658</td>\n",
              "    </tr>\n",
              "  </tbody>\n",
              "</table>\n",
              "<p>105 rows × 15 columns</p>\n",
              "</div>\n",
              "      <button class=\"colab-df-convert\" onclick=\"convertToInteractive('df-8e87fe19-5781-49ce-b077-a3a45af541df')\"\n",
              "              title=\"Convert this dataframe to an interactive table.\"\n",
              "              style=\"display:none;\">\n",
              "        \n",
              "  <svg xmlns=\"http://www.w3.org/2000/svg\" height=\"24px\"viewBox=\"0 0 24 24\"\n",
              "       width=\"24px\">\n",
              "    <path d=\"M0 0h24v24H0V0z\" fill=\"none\"/>\n",
              "    <path d=\"M18.56 5.44l.94 2.06.94-2.06 2.06-.94-2.06-.94-.94-2.06-.94 2.06-2.06.94zm-11 1L8.5 8.5l.94-2.06 2.06-.94-2.06-.94L8.5 2.5l-.94 2.06-2.06.94zm10 10l.94 2.06.94-2.06 2.06-.94-2.06-.94-.94-2.06-.94 2.06-2.06.94z\"/><path d=\"M17.41 7.96l-1.37-1.37c-.4-.4-.92-.59-1.43-.59-.52 0-1.04.2-1.43.59L10.3 9.45l-7.72 7.72c-.78.78-.78 2.05 0 2.83L4 21.41c.39.39.9.59 1.41.59.51 0 1.02-.2 1.41-.59l7.78-7.78 2.81-2.81c.8-.78.8-2.07 0-2.86zM5.41 20L4 18.59l7.72-7.72 1.47 1.35L5.41 20z\"/>\n",
              "  </svg>\n",
              "      </button>\n",
              "      \n",
              "  <style>\n",
              "    .colab-df-container {\n",
              "      display:flex;\n",
              "      flex-wrap:wrap;\n",
              "      gap: 12px;\n",
              "    }\n",
              "\n",
              "    .colab-df-convert {\n",
              "      background-color: #E8F0FE;\n",
              "      border: none;\n",
              "      border-radius: 50%;\n",
              "      cursor: pointer;\n",
              "      display: none;\n",
              "      fill: #1967D2;\n",
              "      height: 32px;\n",
              "      padding: 0 0 0 0;\n",
              "      width: 32px;\n",
              "    }\n",
              "\n",
              "    .colab-df-convert:hover {\n",
              "      background-color: #E2EBFA;\n",
              "      box-shadow: 0px 1px 2px rgba(60, 64, 67, 0.3), 0px 1px 3px 1px rgba(60, 64, 67, 0.15);\n",
              "      fill: #174EA6;\n",
              "    }\n",
              "\n",
              "    [theme=dark] .colab-df-convert {\n",
              "      background-color: #3B4455;\n",
              "      fill: #D2E3FC;\n",
              "    }\n",
              "\n",
              "    [theme=dark] .colab-df-convert:hover {\n",
              "      background-color: #434B5C;\n",
              "      box-shadow: 0px 1px 3px 1px rgba(0, 0, 0, 0.15);\n",
              "      filter: drop-shadow(0px 1px 2px rgba(0, 0, 0, 0.3));\n",
              "      fill: #FFFFFF;\n",
              "    }\n",
              "  </style>\n",
              "\n",
              "      <script>\n",
              "        const buttonEl =\n",
              "          document.querySelector('#df-8e87fe19-5781-49ce-b077-a3a45af541df button.colab-df-convert');\n",
              "        buttonEl.style.display =\n",
              "          google.colab.kernel.accessAllowed ? 'block' : 'none';\n",
              "\n",
              "        async function convertToInteractive(key) {\n",
              "          const element = document.querySelector('#df-8e87fe19-5781-49ce-b077-a3a45af541df');\n",
              "          const dataTable =\n",
              "            await google.colab.kernel.invokeFunction('convertToInteractive',\n",
              "                                                     [key], {});\n",
              "          if (!dataTable) return;\n",
              "\n",
              "          const docLinkHtml = 'Like what you see? Visit the ' +\n",
              "            '<a target=\"_blank\" href=https://colab.research.google.com/notebooks/data_table.ipynb>data table notebook</a>'\n",
              "            + ' to learn more about interactive tables.';\n",
              "          element.innerHTML = '';\n",
              "          dataTable['output_type'] = 'display_data';\n",
              "          await google.colab.output.renderOutput(dataTable, element);\n",
              "          const docLink = document.createElement('div');\n",
              "          docLink.innerHTML = docLinkHtml;\n",
              "          element.appendChild(docLink);\n",
              "        }\n",
              "      </script>\n",
              "    </div>\n",
              "  </div>\n",
              "  "
            ]
          },
          "metadata": {},
          "execution_count": 94
        }
      ],
      "source": [
        "df2['Predicted_Price'] = y_pred_rf_test\n",
        "df2"
      ]
    }
  ],
  "metadata": {
    "colab": {
      "collapsed_sections": [],
      "provenance": []
    },
    "kernelspec": {
      "display_name": "Python 3",
      "name": "python3"
    },
    "language_info": {
      "name": "python"
    }
  },
  "nbformat": 4,
  "nbformat_minor": 0
}